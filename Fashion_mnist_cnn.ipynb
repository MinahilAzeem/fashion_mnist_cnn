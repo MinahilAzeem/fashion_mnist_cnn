{
  "nbformat": 4,
  "nbformat_minor": 0,
  "metadata": {
    "colab": {
      "provenance": [],
      "gpuType": "T4"
    },
    "kernelspec": {
      "name": "python3",
      "display_name": "Python 3"
    },
    "language_info": {
      "name": "python"
    },
    "accelerator": "GPU"
  },
  "cells": [
    {
      "cell_type": "markdown",
      "source": [
        "# **Name: Minahil Azeem**"
      ],
      "metadata": {
        "id": "Ymr-ANBhK-ZB"
      }
    },
    {
      "cell_type": "markdown",
      "source": [
        "# **Train Convolutional Neural Network on Fashion MNIST dataset**"
      ],
      "metadata": {
        "id": "C8VsQ0KRLIEf"
      }
    },
    {
      "cell_type": "code",
      "source": [
        "import numpy as np\n",
        "import keras\n",
        "import tensorflow as tf\n",
        "import pandas as pd"
      ],
      "metadata": {
        "id": "4tMskvshK6nk"
      },
      "execution_count": 2,
      "outputs": []
    },
    {
      "cell_type": "markdown",
      "source": [
        "# **1. Dataset**"
      ],
      "metadata": {
        "id": "T7_Sl1PqLdMq"
      }
    },
    {
      "cell_type": "markdown",
      "source": [
        "# **a. You are provided with the fashion MNIST dataset**"
      ],
      "metadata": {
        "id": "7ojGbeMWLeVX"
      }
    },
    {
      "cell_type": "code",
      "source": [
        "from keras.datasets import fashion_mnist"
      ],
      "metadata": {
        "id": "lRRsBYkOLI68"
      },
      "execution_count": 3,
      "outputs": []
    },
    {
      "cell_type": "markdown",
      "source": [
        "# **2. Split the data into x_train, y_train, x_test and y_test.**"
      ],
      "metadata": {
        "id": "J4AMFmImLmIB"
      }
    },
    {
      "cell_type": "code",
      "source": [
        "(x_train,y_train) , (x_test,y_test) = fashion_mnist.load_data()"
      ],
      "metadata": {
        "colab": {
          "base_uri": "https://localhost:8080/"
        },
        "id": "r__lgiuVLm_v",
        "outputId": "7fac6982-1cd3-4d58-a357-2297a642e9a9"
      },
      "execution_count": 4,
      "outputs": [
        {
          "output_type": "stream",
          "name": "stdout",
          "text": [
            "Downloading data from https://storage.googleapis.com/tensorflow/tf-keras-datasets/train-labels-idx1-ubyte.gz\n",
            "29515/29515 [==============================] - 0s 0us/step\n",
            "Downloading data from https://storage.googleapis.com/tensorflow/tf-keras-datasets/train-images-idx3-ubyte.gz\n",
            "26421880/26421880 [==============================] - 0s 0us/step\n",
            "Downloading data from https://storage.googleapis.com/tensorflow/tf-keras-datasets/t10k-labels-idx1-ubyte.gz\n",
            "5148/5148 [==============================] - 0s 0us/step\n",
            "Downloading data from https://storage.googleapis.com/tensorflow/tf-keras-datasets/t10k-images-idx3-ubyte.gz\n",
            "4422102/4422102 [==============================] - 0s 0us/step\n"
          ]
        }
      ]
    },
    {
      "cell_type": "markdown",
      "source": [
        "# **a. Display the sample images from x_train**"
      ],
      "metadata": {
        "id": "2Fxo-XcPL-lq"
      }
    },
    {
      "cell_type": "code",
      "source": [
        "import matplotlib.pyplot as plt\n",
        "n=15\n",
        "plt.figure(figsize=(20, 4))\n",
        "for i in range(n):\n",
        "  ax=plt.subplot(2,n,i+1)\n",
        "  plt.imshow(x_train[i].reshape(28,28))\n",
        "  plt.gray()\n",
        "  ax.get_xaxis().set_visible(False)\n",
        "  ax.get_yaxis().set_visible(False)\n",
        "plt.show()\n",
        "plt.close()"
      ],
      "metadata": {
        "colab": {
          "base_uri": "https://localhost:8080/",
          "height": 96
        },
        "id": "AmvaSkNcL_ws",
        "outputId": "032159c4-1ca3-4498-e08f-799b92469c36"
      },
      "execution_count": 5,
      "outputs": [
        {
          "output_type": "display_data",
          "data": {
            "text/plain": [
              "<Figure size 2000x400 with 15 Axes>"
            ],
            "image/png": "[encoded data removed]"
          },
          "metadata": {}
        }
      ]
    },
    {
      "cell_type": "markdown",
      "source": [
        "# **b. Display the shape of x_train and y_train**"
      ],
      "metadata": {
        "id": "9QUuLMncMEbj"
      }
    },
    {
      "cell_type": "code",
      "source": [
        "print(\"Shape of x_train:  \",x_train.shape)\n",
        "print(\"Shape of y_train:  \",y_train.shape)"
      ],
      "metadata": {
        "colab": {
          "base_uri": "https://localhost:8080/"
        },
        "id": "PqTFYyByMIV4",
        "outputId": "0f3f866d-8e19-4f76-cd4c-aaf906171670"
      },
      "execution_count": 6,
      "outputs": [
        {
          "output_type": "stream",
          "name": "stdout",
          "text": [
            "Shape of x_train:   (60000, 28, 28)\n",
            "Shape of y_train:   (60000,)\n"
          ]
        }
      ]
    },
    {
      "cell_type": "code",
      "source": [
        "print(\"x_test Shape :\", x_test.shape)\n",
        "print(\"y_test Shape :\", y_test.shape)"
      ],
      "metadata": {
        "colab": {
          "base_uri": "https://localhost:8080/"
        },
        "id": "TFlK37hfQs2r",
        "outputId": "81d998eb-7eac-48f7-c88e-dda17f8f5b87"
      },
      "execution_count": 7,
      "outputs": [
        {
          "output_type": "stream",
          "name": "stdout",
          "text": [
            "x_test Shape : (10000, 28, 28)\n",
            "y_test Shape : (10000,)\n"
          ]
        }
      ]
    },
    {
      "cell_type": "markdown",
      "source": [
        "# **3. Flatten the images**"
      ],
      "metadata": {
        "id": "0S7lTNZHMI3R"
      }
    },
    {
      "cell_type": "markdown",
      "source": [
        "# **a. Reshape the images from 28x28 to 28x28x1.**"
      ],
      "metadata": {
        "id": "OITR_TzWMOZW"
      }
    },
    {
      "cell_type": "code",
      "source": [
        "x_train=x_train.reshape(x_train.shape[0],28,28,1)\n",
        "x_test=x_test.reshape(x_test.shape[0],28,28,1)"
      ],
      "metadata": {
        "id": "sgmuPNg8MLs5"
      },
      "execution_count": 8,
      "outputs": []
    },
    {
      "cell_type": "markdown",
      "source": [
        "# **4. Scale the data**"
      ],
      "metadata": {
        "id": "4igwK3NnMMNR"
      }
    },
    {
      "cell_type": "markdown",
      "source": [
        "# **a. Convert the data into float 32 type**"
      ],
      "metadata": {
        "id": "sXYGEFzGMVUB"
      }
    },
    {
      "cell_type": "code",
      "source": [
        "x_train=x_train.astype(\"float32\")\n",
        "x_test=x_test.astype(\"float32\")"
      ],
      "metadata": {
        "id": "k6XYhvm-MS-I"
      },
      "execution_count": 9,
      "outputs": []
    },
    {
      "cell_type": "markdown",
      "source": [
        "# **b. Scale the data by dividing x_train and y_train by 255**"
      ],
      "metadata": {
        "id": "hUDICaMsMWnV"
      }
    },
    {
      "cell_type": "code",
      "source": [
        "x_train/=255\n",
        "x_test/=255"
      ],
      "metadata": {
        "id": "4OsbJJf-MZhJ"
      },
      "execution_count": 10,
      "outputs": []
    },
    {
      "cell_type": "markdown",
      "source": [
        "# **c. Display the shape of x_train and y_train after scaling.**"
      ],
      "metadata": {
        "id": "Xr1z0LlIMZ4a"
      }
    },
    {
      "cell_type": "code",
      "source": [
        "# Reshaping Labels in One-hot encoding for Multi-class Classification\n",
        "from keras.utils import to_categorical\n",
        "\n",
        "y_train = to_categorical(y_train, num_classes=10)\n",
        "y_test = to_categorical(y_test, num_classes=10)\n",
        "# Seeing updated Shapes\n",
        "print(\"x_train Shape :\", x_train.shape)\n",
        "print(\"y_train Shape :\", y_train.shape)\n",
        "print(\"x_test Shape :\", x_test.shape)\n",
        "print(\"y_test Shape :\", y_test.shape)"
      ],
      "metadata": {
        "colab": {
          "base_uri": "https://localhost:8080/"
        },
        "id": "7sitaL4yMdea",
        "outputId": "84b282e3-6064-4ab9-93cd-4972645dceda"
      },
      "execution_count": 11,
      "outputs": [
        {
          "output_type": "stream",
          "name": "stdout",
          "text": [
            "x_train Shape : (60000, 28, 28, 1)\n",
            "y_train Shape : (60000, 10)\n",
            "x_test Shape : (10000, 28, 28, 1)\n",
            "y_test Shape : (10000, 10)\n"
          ]
        }
      ]
    },
    {
      "cell_type": "markdown",
      "source": [
        "# **5. Define the hyper parameters for the neural networks**"
      ],
      "metadata": {
        "id": "JAHUknYmMd3Y"
      }
    },
    {
      "cell_type": "markdown",
      "source": [
        "# a. No. of Epochs\n",
        "# b. Batch size\n",
        "# c. Input_size of image (Img_height, Img_width, No of channels)\n",
        "# d. No of convolutional layers\n",
        "# e. Output_size (output layers depending upon the number of classes)"
      ],
      "metadata": {
        "id": "0Rv0545gMhZw"
      }
    },
    {
      "cell_type": "code",
      "source": [
        "from keras.models import Sequential\n",
        "from keras.layers.core import Dense,Flatten\n",
        "from keras.layers.convolutional import Conv2D,MaxPooling2D"
      ],
      "metadata": {
        "id": "_Skcj29pM0UE"
      },
      "execution_count": 13,
      "outputs": []
    },
    {
      "cell_type": "code",
      "source": [
        "img_rows, img_cols, channels= 28,28,1\n",
        "#DEfine the no of filters for CNN\n",
        "filters = [7,33,81,121]\n",
        "\n",
        "#define the no of classes for classification\n",
        "classes = 10"
      ],
      "metadata": {
        "id": "WDe8Wi4bOprt"
      },
      "execution_count": 14,
      "outputs": []
    },
    {
      "cell_type": "code",
      "source": [
        "batch_size= 64\n",
        "epochs= 15\n"
      ],
      "metadata": {
        "id": "pb8g-zczWCd_"
      },
      "execution_count": 19,
      "outputs": []
    },
    {
      "cell_type": "code",
      "source": [
        "#creating model\n",
        "model = Sequential() #sequential is like a container that is use to add layers\n",
        "\n",
        "model.add(Conv2D(filters[0],(3,3),padding='same',\\\n",
        "          activation = 'relu', input_shape=(img_rows, img_cols, channels)))\n",
        "\n",
        "model.add(MaxPooling2D(pool_size=(2,2)))  #for reducing image size\n",
        "\n",
        "model.add(Conv2D(filters[1],(2,2),padding='same',activation='relu'))\n",
        "\n",
        "model.add(MaxPooling2D(pool_size=(2,2)))\n",
        "\n",
        "model.add(Conv2D(filters[2],(2,2),padding='same',activation='relu'))\n",
        "\n",
        "model.add(MaxPooling2D(pool_size=(2,2)))\n",
        "\n",
        "model.add(Conv2D(filters[3],(2,2),padding='same',activation='relu'))\n",
        "\n",
        "model.add(MaxPooling2D(pool_size=(2,2)))\n",
        "\n",
        "model.add(Flatten())\n",
        "\n",
        "model.add(Dense(64, activation='relu'))\n",
        "model.add(Dense(classes, activation='softmax'))\n",
        "\n",
        "model.compile(loss='categorical_crossentropy', optimizer='sgd', metrics=['accuracy'])"
      ],
      "metadata": {
        "id": "OXyAulWQPunY"
      },
      "execution_count": 16,
      "outputs": []
    },
    {
      "cell_type": "markdown",
      "source": [
        "# **6. Define the structure of your neural network**"
      ],
      "metadata": {
        "id": "0WA_joOvM14y"
      }
    },
    {
      "cell_type": "markdown",
      "source": [
        "#a. No of Convolutional layers\n",
        "#b. Activation function for each convolutional layer\n",
        "#c. Flatten the 2D vectors into 1D vector for FCN\n",
        "#d. Number of output layer neurons and activation function\n",
        "#e. Compile the model and provide following arguments\n",
        "#i. Loss function\n",
        "#ii. Optimizer\n",
        "#iii. Metric\n",
        "# f. Display the summary of the model"
      ],
      "metadata": {
        "id": "W9-JES4ZM9ZN"
      }
    },
    {
      "cell_type": "code",
      "source": [
        "#creating model\n",
        "model = Sequential() #sequential is like a container that is use to add layers\n",
        "\n",
        "model.add(Conv2D(filters[0],(3,3),padding='same',\\\n",
        "          activation = 'relu', input_shape=(img_rows, img_cols, channels)))\n",
        "\n",
        "model.add(MaxPooling2D(pool_size=(2,2)))  #for reducing image size\n",
        "\n",
        "model.add(Conv2D(filters[1],(2,2),padding='same',activation='relu'))\n",
        "\n",
        "model.add(MaxPooling2D(pool_size=(2,2)))\n",
        "\n",
        "model.add(Conv2D(filters[2],(2,2),padding='same',activation='relu'))\n",
        "\n",
        "model.add(MaxPooling2D(pool_size=(2,2)))\n",
        "\n",
        "model.add(Conv2D(filters[3],(2,2),padding='same',activation='relu'))\n",
        "\n",
        "model.add(MaxPooling2D(pool_size=(2,2)))\n",
        "\n",
        "model.add(Flatten())\n",
        "\n",
        "model.add(Dense(64, activation='relu'))\n",
        "model.add(Dense(classes, activation='softmax'))\n",
        "\n",
        "model.compile(loss='categorical_crossentropy', optimizer='sgd', metrics=['accuracy'])"
      ],
      "metadata": {
        "id": "w9SREDfrNHfO"
      },
      "execution_count": 17,
      "outputs": []
    },
    {
      "cell_type": "code",
      "source": [
        "model.summary()"
      ],
      "metadata": {
        "colab": {
          "base_uri": "https://localhost:8080/"
        },
        "id": "8oDtBDlRTzTt",
        "outputId": "5b07d895-3c52-4a28-9c05-99c0b4210293"
      },
      "execution_count": 18,
      "outputs": [
        {
          "output_type": "stream",
          "name": "stdout",
          "text": [
            "Model: \"sequential_2\"\n",
            "_________________________________________________________________\n",
            " Layer (type)                Output Shape              Param #   \n",
            "=================================================================\n",
            " conv2d_7 (Conv2D)           (None, 28, 28, 7)         70        \n",
            "                                                                 \n",
            " max_pooling2d_6 (MaxPooling  (None, 14, 14, 7)        0         \n",
            " 2D)                                                             \n",
            "                                                                 \n",
            " conv2d_8 (Conv2D)           (None, 14, 14, 33)        957       \n",
            "                                                                 \n",
            " max_pooling2d_7 (MaxPooling  (None, 7, 7, 33)         0         \n",
            " 2D)                                                             \n",
            "                                                                 \n",
            " conv2d_9 (Conv2D)           (None, 7, 7, 81)          10773     \n",
            "                                                                 \n",
            " max_pooling2d_8 (MaxPooling  (None, 3, 3, 81)         0         \n",
            " 2D)                                                             \n",
            "                                                                 \n",
            " conv2d_10 (Conv2D)          (None, 3, 3, 121)         39325     \n",
            "                                                                 \n",
            " max_pooling2d_9 (MaxPooling  (None, 1, 1, 121)        0         \n",
            " 2D)                                                             \n",
            "                                                                 \n",
            " flatten_1 (Flatten)         (None, 121)               0         \n",
            "                                                                 \n",
            " dense_2 (Dense)             (None, 64)                7808      \n",
            "                                                                 \n",
            " dense_3 (Dense)             (None, 10)                650       \n",
            "                                                                 \n",
            "=================================================================\n",
            "Total params: 59,583\n",
            "Trainable params: 59,583\n",
            "Non-trainable params: 0\n",
            "_________________________________________________________________\n"
          ]
        }
      ]
    },
    {
      "cell_type": "markdown",
      "source": [
        "# **7. Train the Neural Network**"
      ],
      "metadata": {
        "id": "xtJkYpIXNIiz"
      }
    },
    {
      "cell_type": "markdown",
      "source": [
        "# **a. Fit the Model**"
      ],
      "metadata": {
        "id": "odywnzXCNOTl"
      }
    },
    {
      "cell_type": "code",
      "source": [
        "model.fit(x_train, y_train, validation_split= 0.2, epochs=15, batch_size=64 ,verbose= 1)"
      ],
      "metadata": {
        "colab": {
          "base_uri": "https://localhost:8080/"
        },
        "id": "fBCQ_6OqNPYC",
        "outputId": "c56e219a-80a7-46dc-9d7b-59aa00b22f02"
      },
      "execution_count": 20,
      "outputs": [
        {
          "output_type": "stream",
          "name": "stdout",
          "text": [
            "Epoch 1/15\n",
            "750/750 [==============================] - 14s 6ms/step - loss: 1.7931 - accuracy: 0.4272 - val_loss: 0.9302 - val_accuracy: 0.6601\n",
            "Epoch 2/15\n",
            "750/750 [==============================] - 4s 5ms/step - loss: 0.8259 - accuracy: 0.6824 - val_loss: 0.7095 - val_accuracy: 0.7126\n",
            "Epoch 3/15\n",
            "750/750 [==============================] - 4s 5ms/step - loss: 0.6678 - accuracy: 0.7446 - val_loss: 0.6610 - val_accuracy: 0.7388\n",
            "Epoch 4/15\n",
            "750/750 [==============================] - 4s 5ms/step - loss: 0.5914 - accuracy: 0.7781 - val_loss: 0.5455 - val_accuracy: 0.8014\n",
            "Epoch 5/15\n",
            "750/750 [==============================] - 5s 6ms/step - loss: 0.5341 - accuracy: 0.8003 - val_loss: 0.5042 - val_accuracy: 0.8162\n",
            "Epoch 6/15\n",
            "750/750 [==============================] - 3s 5ms/step - loss: 0.4986 - accuracy: 0.8173 - val_loss: 0.5155 - val_accuracy: 0.8105\n",
            "Epoch 7/15\n",
            "750/750 [==============================] - 3s 5ms/step - loss: 0.4683 - accuracy: 0.8294 - val_loss: 0.4520 - val_accuracy: 0.8356\n",
            "Epoch 8/15\n",
            "750/750 [==============================] - 4s 5ms/step - loss: 0.4440 - accuracy: 0.8385 - val_loss: 0.4432 - val_accuracy: 0.8419\n",
            "Epoch 9/15\n",
            "750/750 [==============================] - 4s 6ms/step - loss: 0.4272 - accuracy: 0.8449 - val_loss: 0.4424 - val_accuracy: 0.8398\n",
            "Epoch 10/15\n",
            "750/750 [==============================] - 4s 5ms/step - loss: 0.4084 - accuracy: 0.8520 - val_loss: 0.4099 - val_accuracy: 0.8517\n",
            "Epoch 11/15\n",
            "750/750 [==============================] - 4s 5ms/step - loss: 0.3963 - accuracy: 0.8564 - val_loss: 0.3958 - val_accuracy: 0.8572\n",
            "Epoch 12/15\n",
            "750/750 [==============================] - 4s 5ms/step - loss: 0.3841 - accuracy: 0.8622 - val_loss: 0.4163 - val_accuracy: 0.8488\n",
            "Epoch 13/15\n",
            "750/750 [==============================] - 3s 5ms/step - loss: 0.3743 - accuracy: 0.8643 - val_loss: 0.4343 - val_accuracy: 0.8380\n",
            "Epoch 14/15\n",
            "750/750 [==============================] - 4s 5ms/step - loss: 0.3669 - accuracy: 0.8672 - val_loss: 0.3885 - val_accuracy: 0.8597\n",
            "Epoch 15/15\n",
            "750/750 [==============================] - 4s 5ms/step - loss: 0.3571 - accuracy: 0.8701 - val_loss: 0.3716 - val_accuracy: 0.8673\n"
          ]
        },
        {
          "output_type": "execute_result",
          "data": {
            "text/plain": [
              "<keras.callbacks.History at 0x7e296457a680>"
            ]
          },
          "metadata": {},
          "execution_count": 20
        }
      ]
    },
    {
      "cell_type": "markdown",
      "source": [
        "# **b. Train the Model for 15 epochs and report the training accuracy.**"
      ],
      "metadata": {
        "id": "wWwg0m7LNQOj"
      }
    },
    {
      "cell_type": "markdown",
      "source": [
        "# **8. Test the model**"
      ],
      "metadata": {
        "id": "4iLq_Yo8NTDs"
      }
    },
    {
      "cell_type": "markdown",
      "source": [
        "# **a. Find the testing accuracy of the model**"
      ],
      "metadata": {
        "id": "2_h1U3XXNWCs"
      }
    },
    {
      "cell_type": "code",
      "source": [
        "from sklearn.metrics import accuracy_score\n",
        "import numpy as np\n",
        "import matplotlib.pyplot as plt\n",
        "\n",
        "#predict probabilities for the test set using trained model\n",
        "y_pred_probs= model.predict(x_test, verbose=1)\n",
        "\n",
        "y_pred= np.where(y_pred_probs>0.5,1,0)\n",
        "\n",
        "test_accuracy = accuracy_score(y_pred, y_test)\n",
        "print(\"\\nTest accuracy: {}\".format(test_accuracy))\n"
      ],
      "metadata": {
        "colab": {
          "base_uri": "https://localhost:8080/"
        },
        "id": "snbpsIEaNZlJ",
        "outputId": "1f4d287d-b7f4-4a3e-c231-0889152d558a"
      },
      "execution_count": 21,
      "outputs": [
        {
          "output_type": "stream",
          "name": "stdout",
          "text": [
            "313/313 [==============================] - 1s 2ms/step\n",
            "\n",
            "Test accuracy: 0.8363\n"
          ]
        }
      ]
    },
    {
      "cell_type": "markdown",
      "source": [
        "# **b. Compare the training and testing accuracy and write you observation in the comments**\n"
      ],
      "metadata": {
        "id": "KyHKu2ynNaPY"
      }
    },
    {
      "cell_type": "code",
      "source": [
        "#training accuracy =  0.8701\n",
        "#testing accuracy = 0.8363\n",
        "#difference 0.8701-0.8363= 0.0338\n",
        "#this is not as good as it should be but not much bad"
      ],
      "metadata": {
        "id": "aOXayUw0Nhw3"
      },
      "execution_count": 23,
      "outputs": []
    },
    {
      "cell_type": "markdown",
      "source": [
        "# **c. Display the predicted labels along the input image.**"
      ],
      "metadata": {
        "id": "5OXhm6E6N12S"
      }
    },
    {
      "cell_type": "code",
      "source": [
        "mask = range(20,60)\n",
        "\n",
        "x_valid= x_test[30:60]\n",
        "actual_labels= y_test[30:60]\n",
        "\n",
        "y_pred_probs = model.predict(x_valid)\n",
        "y_pred_valid= np.where(y_pred_probs > 0.5, 1, 0)"
      ],
      "metadata": {
        "colab": {
          "base_uri": "https://localhost:8080/"
        },
        "id": "4D3-7ewSN4oZ",
        "outputId": "e1d1a3c2-0bd2-4de3-d8ce-20fb443dfe06"
      },
      "execution_count": 24,
      "outputs": [
        {
          "output_type": "stream",
          "name": "stdout",
          "text": [
            "1/1 [==============================] - 0s 107ms/step\n"
          ]
        }
      ]
    },
    {
      "cell_type": "code",
      "source": [
        "n=len(x_valid)\n",
        "plt.figure(figsize=(20,4))\n",
        "for i in range(n):\n",
        "  ax = plt.subplot(2,n,i+1)\n",
        "  plt.imshow(x_valid[i].reshape(28,28))\n",
        "  plt.gray()\n",
        "  ax.get_xaxis().set_visible(False)\n",
        "  ax.get_yaxis().set_visible(False)\n",
        "\n",
        "  predicted_dress= np.argmax(y_pred_probs[i])\n",
        "  ax= plt.subplot(2,n, i+1+n)\n",
        "  plt.text(0.5, 0.5, str(predicted_dress), fontsize=14, ha='center', va='center')\n",
        "  plt.axis('off')\n",
        "plt.show()\n",
        "plt.close()\n",
        "\n",
        ""
      ],
      "metadata": {
        "colab": {
          "base_uri": "https://localhost:8080/",
          "height": 223
        },
        "id": "RD9JSFGDfAk-",
        "outputId": "11f433df-bc98-415c-d61a-b50a6565fbc5"
      },
      "execution_count": 28,
      "outputs": [
        {
          "output_type": "display_data",
          "data": {
            "text/plain": [
              "<Figure size 2000x400 with 60 Axes>"
            ],
            "image/png": "[encoded data removed]"
          },
          "metadata": {}
        }
      ]
    }
  ]
}